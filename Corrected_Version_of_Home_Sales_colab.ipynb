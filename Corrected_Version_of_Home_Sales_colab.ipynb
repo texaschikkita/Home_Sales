{
  "cells": [
    {
      "cell_type": "markdown",
      "metadata": {
        "id": "view-in-github",
        "colab_type": "text"
      },
      "source": [
        "<a href=\"https://colab.research.google.com/github/texaschikkita/Aimbot-V2/blob/main/Corrected_Version_of_Home_Sales_colab.ipynb\" target=\"_parent\"><img src=\"https://colab.research.google.com/assets/colab-badge.svg\" alt=\"Open In Colab\"/></a>"
      ]
    },
    {
      "cell_type": "code",
      "source": [
        "import os\n",
        "# Find the latest version of spark 3.x  from http://www.apache.org/dist/spark/ and enter as the spark version\n",
        "# For example:\n",
        "# spark_version = 'spark-3.3.1'\n",
        "spark_version = 'spark-3.3.2'\n",
        "os.environ['SPARK_VERSION']=spark_version\n",
        "\n",
        "# Install Spark and Java\n",
        "!apt-get update\n",
        "!apt-get install openjdk-11-jdk-headless -qq > /dev/null\n",
        "!wget -q http://www.apache.org/dist/spark/$SPARK_VERSION/$SPARK_VERSION-bin-hadoop3.tgz\n",
        "!tar xf $SPARK_VERSION-bin-hadoop3.tgz\n",
        "%pip install -q findspark\n",
        "\n",
        "# Set Environment Variables\n",
        "os.environ[\"JAVA_HOME\"] = \"/usr/lib/jvm/java-11-openjdk-amd64\"\n",
        "os.environ[\"SPARK_HOME\"] = f\"/content/{spark_version}-bin-hadoop3\"\n",
        "\n",
        "# Start a SparkSession\n",
        "import findspark\n",
        "findspark.init()"
      ],
      "metadata": {
        "colab": {
          "base_uri": "https://localhost:8080/"
        },
        "id": "1BW88g-JzwbG",
        "outputId": "891faec7-a8f4-4d48-d25d-3d9b1e261f2d"
      },
      "execution_count": 2,
      "outputs": [
        {
          "output_type": "stream",
          "name": "stdout",
          "text": [
            "\r0% [Working]\r            \rHit:1 https://cloud.r-project.org/bin/linux/ubuntu focal-cran40/ InRelease\n",
            "\r0% [Connecting to archive.ubuntu.com] [Connecting to security.ubuntu.com (91.18\r                                                                               \rHit:2 https://developer.download.nvidia.com/compute/cuda/repos/ubuntu2004/x86_64  InRelease\n",
            "Hit:3 http://security.ubuntu.com/ubuntu focal-security InRelease\n",
            "Hit:4 http://ppa.launchpad.net/c2d4u.team/c2d4u4.0+/ubuntu focal InRelease\n",
            "Hit:5 http://archive.ubuntu.com/ubuntu focal InRelease\n",
            "Hit:6 http://archive.ubuntu.com/ubuntu focal-updates InRelease\n",
            "Hit:7 http://archive.ubuntu.com/ubuntu focal-backports InRelease\n",
            "Hit:8 http://ppa.launchpad.net/cran/libgit2/ubuntu focal InRelease\n",
            "Hit:9 http://ppa.launchpad.net/deadsnakes/ppa/ubuntu focal InRelease\n",
            "Hit:10 http://ppa.launchpad.net/graphics-drivers/ppa/ubuntu focal InRelease\n",
            "Hit:11 http://ppa.launchpad.net/ubuntugis/ppa/ubuntu focal InRelease\n",
            "Reading package lists... Done\n"
          ]
        }
      ]
    },
    {
      "cell_type": "code",
      "source": [
        "# Import findspark and initialize. \n",
        "import findspark\n",
        "findspark.init()"
      ],
      "metadata": {
        "id": "kB6BqNk90C4s"
      },
      "execution_count": 3,
      "outputs": []
    },
    {
      "cell_type": "code",
      "execution_count": 4,
      "metadata": {
        "id": "2XbWNf1Te5fM"
      },
      "outputs": [],
      "source": [
        "# Import packages\n",
        "from pyspark.sql import SparkSession\n",
        "import time\n",
        "\n",
        "# Create a SparkSession\n",
        "spark = SparkSession.builder.appName(\"SparkSQL\").getOrCreate()"
      ]
    },
    {
      "cell_type": "code",
      "execution_count": 5,
      "metadata": {
        "colab": {
          "base_uri": "https://localhost:8080/"
        },
        "id": "Mf554SXFzoN7",
        "outputId": "7b4bc70e-f87d-44ff-ab03-24a862a4996f"
      },
      "outputs": [
        {
          "output_type": "stream",
          "name": "stdout",
          "text": [
            "+--------------------+-------------------+----------+------+--------+---------+-----------+--------+------+----------+----+\n",
            "|                  id|               date|date_built| price|bedrooms|bathrooms|sqft_living|sqft_lot|floors|waterfront|view|\n",
            "+--------------------+-------------------+----------+------+--------+---------+-----------+--------+------+----------+----+\n",
            "|f8a53099-ba1c-47d...|2022-04-08 00:00:00|      2016|936923|       4|        3|       3167|   11733|     2|         1|  76|\n",
            "|7530a2d8-1ae3-451...|2021-06-13 00:00:00|      2013|379628|       2|        2|       2235|   14384|     1|         0|  23|\n",
            "|43de979c-0bf0-4c9...|2019-04-12 00:00:00|      2014|417866|       2|        2|       2127|   10575|     2|         0|   0|\n",
            "|b672c137-b88c-48b...|2019-10-16 00:00:00|      2016|239895|       2|        2|       1631|   11149|     2|         0|   0|\n",
            "|e0726d4d-d595-407...|2022-01-08 00:00:00|      2017|424418|       3|        2|       2249|   13878|     2|         0|   4|\n",
            "|5aa00529-0533-46b...|2019-01-30 00:00:00|      2017|218712|       2|        3|       1965|   14375|     2|         0|   7|\n",
            "|131492a1-72e2-4a8...|2020-02-08 00:00:00|      2017|419199|       2|        3|       2062|    8876|     2|         0|   6|\n",
            "|8d54a71b-c520-44e...|2019-07-21 00:00:00|      2010|323956|       2|        3|       1506|   11816|     1|         0|  25|\n",
            "|e81aacfe-17fe-46b...|2020-06-16 00:00:00|      2016|181925|       3|        3|       2137|   11709|     2|         0|  22|\n",
            "|2ed8d509-7372-46d...|2021-08-06 00:00:00|      2015|258710|       3|        3|       1918|    9666|     1|         0|  25|\n",
            "|f876d86f-3c9f-42b...|2019-02-27 00:00:00|      2011|167864|       3|        3|       2471|   13924|     2|         0|  15|\n",
            "|0a2bd445-8508-4d8...|2021-12-30 00:00:00|      2014|337527|       2|        3|       1926|   12556|     1|         0|  23|\n",
            "|941bad30-eb49-4a7...|2020-05-09 00:00:00|      2015|229896|       3|        3|       2197|    8641|     1|         0|   3|\n",
            "|dd61eb34-6589-4c0...|2021-07-25 00:00:00|      2016|210247|       3|        2|       1672|   11986|     2|         0|  28|\n",
            "|f1e4cef7-d151-439...|2019-02-01 00:00:00|      2011|398667|       2|        3|       2331|   11356|     1|         0|   7|\n",
            "|ea620c7b-c2f7-4c6...|2021-05-31 00:00:00|      2011|437958|       3|        3|       2356|   11052|     1|         0|  26|\n",
            "|f233cb41-6f33-4b0...|2021-07-18 00:00:00|      2016|437375|       4|        3|       1704|   11721|     2|         0|  34|\n",
            "|c797ca12-52cd-4b1...|2019-06-08 00:00:00|      2015|288650|       2|        3|       2100|   10419|     2|         0|   7|\n",
            "|0cfe57f3-28c2-472...|2019-10-04 00:00:00|      2015|308313|       3|        3|       1960|    9453|     2|         0|   2|\n",
            "|4566cd2a-ac6e-435...|2019-07-15 00:00:00|      2016|177541|       3|        3|       2130|   10517|     2|         0|  25|\n",
            "+--------------------+-------------------+----------+------+--------+---------+-----------+--------+------+----------+----+\n",
            "only showing top 20 rows\n",
            "\n"
          ]
        }
      ],
      "source": [
        "# 1. Read in the AWS S3 bucket into a DataFrame.\n",
        "from pyspark import SparkFiles\n",
        "url = \"https://2u-data-curriculum-team.s3.amazonaws.com/dataviz-classroom/v1.2/22-big-data/home_sales_revised.csv\"\n",
        "\n",
        "# Set file to url\n",
        "spark.sparkContext.addFile(url)\n",
        "df = spark.read.csv(SparkFiles.get(\"home_sales_revised.csv\"), header=True, inferSchema=True, quote=\"\\\"\", escape=\"\\\"\")\n",
        "\n",
        "# Show DataFrame\n",
        "df.show()\n"
      ]
    },
    {
      "cell_type": "code",
      "source": [
        "# 2. create a temporary view of the DataFrame\n",
        "df.createOrReplaceTempView(\"house_data\")\n",
        "\n",
        "# 3. Then, run the Spark SQL query\n",
        "query = \"\"\"\n",
        "    SELECT date_built, ROUND(AVG(Price), 2) AS Average_Price\n",
        "    FROM house_data\n",
        "    WHERE Bedrooms = 4\n",
        "    GROUP BY date_built\n",
        "    ORDER BY date_built\n",
        "\"\"\"\n",
        "result = spark.sql(query)\n",
        "\n",
        "# Show the result\n",
        "result.show()\n"
      ],
      "metadata": {
        "colab": {
          "base_uri": "https://localhost:8080/"
        },
        "id": "XtKwJefq1o2r",
        "outputId": "bc0a8abb-15eb-4149-c056-eca6a97c5298"
      },
      "execution_count": 6,
      "outputs": [
        {
          "output_type": "stream",
          "name": "stdout",
          "text": [
            "+----------+-------------+\n",
            "|date_built|Average_Price|\n",
            "+----------+-------------+\n",
            "|      2010|    296800.75|\n",
            "|      2011|     302141.9|\n",
            "|      2012|    298233.42|\n",
            "|      2013|    299999.39|\n",
            "|      2014|    299073.89|\n",
            "|      2015|    307908.86|\n",
            "|      2016|    296050.24|\n",
            "|      2017|    296576.69|\n",
            "+----------+-------------+\n",
            "\n"
          ]
        }
      ]
    },
    {
      "cell_type": "code",
      "execution_count": 7,
      "metadata": {
        "colab": {
          "base_uri": "https://localhost:8080/"
        },
        "id": "l8p_tUS8h8it",
        "outputId": "66fe9594-bd2f-4b60-d94f-3c72b15931fd"
      },
      "outputs": [
        {
          "output_type": "stream",
          "name": "stdout",
          "text": [
            "+----------+--------------------+\n",
            "|date_built|Avg_Price_3bed_3bath|\n",
            "+----------+--------------------+\n",
            "|      2010|           292859.62|\n",
            "|      2011|           291117.47|\n",
            "|      2012|           293683.19|\n",
            "|      2013|           295962.27|\n",
            "|      2014|           290852.27|\n",
            "|      2015|            288770.3|\n",
            "|      2016|           290555.07|\n",
            "|      2017|           292676.79|\n",
            "+----------+--------------------+\n",
            "\n"
          ]
        }
      ],
      "source": [
        "# 4. What is the average price of a home for each year the home was built that have 3 bedrooms and 3 bathrooms rounded to two decimal places?\n",
        "spark.sql('''\n",
        "SELECT date_built, ROUND(AVG(price), 2) AS Avg_Price_3bed_3bath\n",
        "FROM house_data\n",
        "WHERE bedrooms = 3 AND bathrooms = 3 \n",
        "GROUP BY date_built\n",
        "ORDER BY date_built\n",
        "''').show()"
      ]
    },
    {
      "cell_type": "code",
      "execution_count": 8,
      "metadata": {
        "colab": {
          "base_uri": "https://localhost:8080/"
        },
        "id": "Y-Eytz64liDU",
        "outputId": "f8d3be76-19c0-45a9-c25f-afaf6c8a3af9"
      },
      "outputs": [
        {
          "output_type": "stream",
          "name": "stdout",
          "text": [
            "+----------+-----------------------------+\n",
            "|date_built|Avg_Price_3and3_2ksqft_2story|\n",
            "+----------+-----------------------------+\n",
            "|      2010|                    285010.22|\n",
            "|      2011|                    276553.81|\n",
            "|      2012|                    307539.97|\n",
            "|      2013|                    303676.79|\n",
            "|      2014|                    298264.72|\n",
            "|      2015|                    297609.97|\n",
            "|      2016|                     293965.1|\n",
            "|      2017|                    280317.58|\n",
            "+----------+-----------------------------+\n",
            "\n"
          ]
        }
      ],
      "source": [
        "#  5. What is the average price of a home for each year built that have 3 bedrooms, 3 bathrooms, with two floors,\n",
        "# and are greater than or equal to 2,000 square feet rounded to two decimal places?\n",
        "\n",
        "spark.sql('''\n",
        "SELECT date_built, ROUND(AVG(price), 2) AS Avg_Price_3and3_2ksqft_2story\n",
        "FROM house_data\n",
        "WHERE bedrooms = 3 AND bathrooms = 3 AND floors = 2 AND sqft_living >= 2000\n",
        "GROUP BY date_built\n",
        "ORDER BY date_built\n",
        "''').show()"
      ]
    },
    {
      "cell_type": "code",
      "execution_count": 9,
      "metadata": {
        "colab": {
          "base_uri": "https://localhost:8080/"
        },
        "id": "GUrfgOX1pCRd",
        "outputId": "33d2fa78-294e-47bf-8453-b8d3979812e1"
      },
      "outputs": [
        {
          "output_type": "stream",
          "name": "stdout",
          "text": [
            "+-----------+\n",
            "|View_Rating|\n",
            "+-----------+\n",
            "|      32.26|\n",
            "+-----------+\n",
            "\n",
            "Runtime without cache: 0.5645709037780762 seconds\n"
          ]
        }
      ],
      "source": [
        "# 6. What is the \"view\" rating for the average price of a home, rounded to two decimal places, where the homes are greater than\n",
        "# or equal to $350,000? Although this is a small dataset, determine the run time for this query.\n",
        "\n",
        "start_time = time.time()\n",
        "\n",
        "spark.sql('''\n",
        "SELECT ROUND(AVG(view), 2) as View_Rating\n",
        "FROM house_data\n",
        "WHERE Price >= 350000\n",
        "''').show()\n",
        "\n",
        "end_time =time.time()\n",
        "\n",
        "print(f\"Runtime without cache: {end_time - start_time} seconds\")"
      ]
    },
    {
      "cell_type": "code",
      "source": [
        "# 6(b) Or (alternate query to get view rating on each)\n",
        "\n",
        "start_time=time.time()\n",
        "query = \"\"\"\n",
        "    SELECT View, ROUND(AVG(Price), 2) AS Average_Price\n",
        "    FROM house_data\n",
        "    WHERE Price >= 350000\n",
        "    GROUP BY View\n",
        "    ORDER BY View\n",
        "\"\"\"\n",
        "end_time=time.time()\n",
        "\n",
        "result = spark.sql(query)\n",
        "\n",
        "# Display the result\n",
        "result.show()\n",
        "print(f\"Runtime without cache: {end_time - start_time} seconds\")"
      ],
      "metadata": {
        "colab": {
          "base_uri": "https://localhost:8080/"
        },
        "id": "1yF4cdUOIf7c",
        "outputId": "eb04d5d5-2e43-4401-e12b-60add42df172"
      },
      "execution_count": 10,
      "outputs": [
        {
          "output_type": "stream",
          "name": "stdout",
          "text": [
            "+----+-------------+\n",
            "|View|Average_Price|\n",
            "+----+-------------+\n",
            "|   0|    403848.51|\n",
            "|   1|    401044.25|\n",
            "|   2|    397389.25|\n",
            "|   3|     398867.6|\n",
            "|   4|    399631.89|\n",
            "|   5|    401471.82|\n",
            "|   6|    395655.38|\n",
            "|   7|    403005.77|\n",
            "|   8|    398592.71|\n",
            "|   9|    401393.34|\n",
            "|  10|    401868.43|\n",
            "|  11|    399548.12|\n",
            "|  12|    401501.32|\n",
            "|  13|    398917.98|\n",
            "|  14|    398570.03|\n",
            "|  15|     404673.3|\n",
            "|  16|    399586.53|\n",
            "|  17|    398474.49|\n",
            "|  18|    399332.91|\n",
            "|  19|    398953.17|\n",
            "+----+-------------+\n",
            "only showing top 20 rows\n",
            "\n",
            "Runtime without cache: 7.843971252441406e-05 seconds\n"
          ]
        }
      ]
    },
    {
      "cell_type": "code",
      "execution_count": 11,
      "metadata": {
        "colab": {
          "base_uri": "https://localhost:8080/"
        },
        "id": "KAhk3ZD2tFy8",
        "outputId": "5d3c5b3f-8ebf-4f4d-b098-531ae44faaab"
      },
      "outputs": [
        {
          "output_type": "execute_result",
          "data": {
            "text/plain": [
              "DataFrame[]"
            ]
          },
          "metadata": {},
          "execution_count": 11
        }
      ],
      "source": [
        "# 7. Cache the the temporary table house_data.\n",
        "spark.sql(\"cache table house_data\")"
      ]
    },
    {
      "cell_type": "code",
      "execution_count": 12,
      "metadata": {
        "colab": {
          "base_uri": "https://localhost:8080/"
        },
        "id": "4opVhbvxtL-i",
        "outputId": "91a3a3e7-591f-4b2a-edac-8e84ecc706d1"
      },
      "outputs": [
        {
          "output_type": "execute_result",
          "data": {
            "text/plain": [
              "True"
            ]
          },
          "metadata": {},
          "execution_count": 12
        }
      ],
      "source": [
        "# 8. Check if the table is cached.\n",
        "spark.catalog.isCached('house_data')"
      ]
    },
    {
      "cell_type": "code",
      "source": [
        "# 9. Using the cached data, run the query that filters out the view ratings with average price \n",
        "#  greater than or equal to $350,000. Determine the runtime and compare it to uncached runtime.\n",
        "\n",
        "start_time=time.time()\n",
        "query = \"\"\"\n",
        "    SELECT ROUND(AVG(View), 2) AS View_Rating\n",
        "    FROM house_data\n",
        "    WHERE Price >= 350000\n",
        "\"\"\"\n",
        "end_time=time.time()\n",
        "\n",
        "result = spark.sql(query)\n",
        "\n",
        "# Display the result\n",
        "result.show()\n",
        "print(f\"Runtime without cache: {end_time - start_time} seconds\")"
      ],
      "metadata": {
        "colab": {
          "base_uri": "https://localhost:8080/"
        },
        "id": "BIqtbgQj8Fz2",
        "outputId": "eda572fb-0d61-40bd-8880-14fe690032a4"
      },
      "execution_count": 13,
      "outputs": [
        {
          "output_type": "stream",
          "name": "stdout",
          "text": [
            "+-----------+\n",
            "|View_Rating|\n",
            "+-----------+\n",
            "|      32.26|\n",
            "+-----------+\n",
            "\n",
            "Runtime without cache: 8.535385131835938e-05 seconds\n"
          ]
        }
      ]
    },
    {
      "cell_type": "code",
      "source": [
        "# 9(b) OR (alternate query to get result for each) \n",
        "start_time = time.time()\n",
        "\n",
        "query = \"\"\"\n",
        "    SELECT View, ROUND(AVG(Price), 2) AS view_rating\n",
        "    FROM house_data\n",
        "    GROUP BY View\n",
        "    HAVING AVG(Price) >= 350000\n",
        "\"\"\"\n",
        "end_time=time.time()\n",
        "result = spark.sql(query)\n",
        "\n",
        "# Display the result\n",
        "result.show()\n",
        "print(f\"Runtime with cache: {end_time - start_time} seconds\")"
      ],
      "metadata": {
        "colab": {
          "base_uri": "https://localhost:8080/"
        },
        "id": "i640cnTbKYWk",
        "outputId": "e0001874-d339-49e2-971b-bd6a375c09f9"
      },
      "execution_count": 15,
      "outputs": [
        {
          "output_type": "stream",
          "name": "stdout",
          "text": [
            "+----+-----------+\n",
            "|View|view_rating|\n",
            "+----+-----------+\n",
            "|  85| 1056336.74|\n",
            "|  65|  736679.93|\n",
            "|  53|   755214.8|\n",
            "|  78| 1080649.37|\n",
            "|  81| 1053472.79|\n",
            "|  76| 1058802.78|\n",
            "|  91| 1137372.73|\n",
            "|  93| 1026006.06|\n",
            "|  52|  733780.26|\n",
            "|  86| 1070444.25|\n",
            "|  94|  1033536.2|\n",
            "|  57|   734340.5|\n",
            "|  54|  798684.82|\n",
            "|  96| 1017815.92|\n",
            "|  92|  970402.55|\n",
            "|  64|  767036.67|\n",
            "|  61|  746877.59|\n",
            "|  88| 1031719.35|\n",
            "|  72|  780914.67|\n",
            "|  59|   791453.0|\n",
            "+----+-----------+\n",
            "only showing top 20 rows\n",
            "\n",
            "Runtime with cache: 7.772445678710938e-05 seconds\n"
          ]
        }
      ]
    },
    {
      "cell_type": "code",
      "source": [
        "# 10. Partition by the \"date_built\" field on the formatted parquet home sales data \n",
        "df.write.partitionBy(\"date_built\").parquet(\"/path/to/output\")\n"
      ],
      "metadata": {
        "id": "WOn8wX5wMAbo"
      },
      "execution_count": 16,
      "outputs": []
    },
    {
      "cell_type": "code",
      "source": [
        "# 11. Read the formatted parquet data.\n",
        "# Import PySpark\n",
        "from pyspark.sql import SparkSession\n",
        "\n",
        "# Initiate a SparkSession\n",
        "spark = SparkSession.builder.appName(\"read_parquet\").getOrCreate()\n",
        "\n",
        "# Provide the path to the Parquet file or directory\n",
        "parquet_file_path = \"/path/to/output\"\n",
        "\n",
        "# Read the Parquet file\n",
        "df = spark.read.parquet(parquet_file_path)\n",
        "\n",
        "# Display the DataFrame\n",
        "df.show()\n"
      ],
      "metadata": {
        "colab": {
          "base_uri": "https://localhost:8080/"
        },
        "id": "xQzEoPwkMttf",
        "outputId": "f8db9623-40d3-45dc-e5af-4a7c5ba0cfc9"
      },
      "execution_count": 17,
      "outputs": [
        {
          "output_type": "stream",
          "name": "stdout",
          "text": [
            "+--------------------+-------------------+------+--------+---------+-----------+--------+------+----------+----+----------+\n",
            "|                  id|               date| price|bedrooms|bathrooms|sqft_living|sqft_lot|floors|waterfront|view|date_built|\n",
            "+--------------------+-------------------+------+--------+---------+-----------+--------+------+----------+----+----------+\n",
            "|2ed8d509-7372-46d...|2021-08-06 00:00:00|258710|       3|        3|       1918|    9666|     1|         0|  25|      2015|\n",
            "|941bad30-eb49-4a7...|2020-05-09 00:00:00|229896|       3|        3|       2197|    8641|     1|         0|   3|      2015|\n",
            "|c797ca12-52cd-4b1...|2019-06-08 00:00:00|288650|       2|        3|       2100|   10419|     2|         0|   7|      2015|\n",
            "|0cfe57f3-28c2-472...|2019-10-04 00:00:00|308313|       3|        3|       1960|    9453|     2|         0|   2|      2015|\n",
            "|d715f295-2fbf-4e9...|2021-05-17 00:00:00|391574|       3|        2|       1635|    8040|     2|         0|  10|      2015|\n",
            "|a18515a2-86f3-46b...|2022-02-18 00:00:00|419543|       3|        2|       1642|   12826|     2|         0|  24|      2015|\n",
            "|98f6a9ad-8870-474...|2022-05-07 00:00:00|136752|       2|        3|       1701|   10771|     2|         0|   5|      2015|\n",
            "|7ac67498-b6f3-403...|2021-05-12 00:00:00|349318|       4|        3|       2417|   11304|     2|         0|  37|      2015|\n",
            "|c9bfdb1c-2499-4e3...|2021-12-07 00:00:00|268874|       2|        2|       1537|   12177|     1|         0|  10|      2015|\n",
            "|34c31a34-220d-469...|2019-02-06 00:00:00|409011|       3|        3|       2356|   10507|     1|         0|   1|      2015|\n",
            "|be0ccb95-415d-411...|2020-05-15 00:00:00|425154|       4|        3|       2120|   14229|     2|         0|   4|      2015|\n",
            "|e9031a86-1294-444...|2021-10-09 00:00:00|222322|       4|        3|       1928|   10510|     1|         0|  38|      2015|\n",
            "|e6d7c2a7-596e-4ec...|2019-03-15 00:00:00|131201|       4|        3|       1633|   14655|     1|         0|  22|      2015|\n",
            "|6683714b-3df7-454...|2022-02-01 00:00:00|333403|       4|        2|       2059|    9793|     2|         0|   4|      2015|\n",
            "|00fc996f-508c-430...|2021-07-15 00:00:00|373139|       3|        3|       1763|   11363|     1|         0|  39|      2015|\n",
            "|3d5545f8-bd3b-476...|2020-09-19 00:00:00|797862|       4|        6|       3494|   10385|     2|         0|  90|      2015|\n",
            "|ec6d357c-2435-43e...|2019-05-28 00:00:00|401792|       3|        2|       1627|   10765|     1|         0|  50|      2015|\n",
            "|c2be38fb-814a-403...|2020-03-20 00:00:00|352237|       3|        3|       2485|   10954|     2|         0|   6|      2015|\n",
            "|9570de1f-5a74-45b...|2021-11-29 00:00:00|298453|       3|        2|       2222|   10634|     1|         0|   6|      2015|\n",
            "|1baeff4f-fc00-489...|2020-12-17 00:00:00|152775|       3|        2|       1623|   13851|     1|         0|  41|      2015|\n",
            "+--------------------+-------------------+------+--------+---------+-----------+--------+------+----------+----+----------+\n",
            "only showing top 20 rows\n",
            "\n"
          ]
        }
      ]
    },
    {
      "cell_type": "code",
      "execution_count": 18,
      "metadata": {
        "id": "Qm12WN9isHBR"
      },
      "outputs": [],
      "source": [
        "# 10 (b) OR alternate method \n",
        "df.write.parquet('date_built', mode='overwrite')\n",
        "\n",
        "\n",
        "# 11. (b)  OR alternate method\n",
        "parquet_df=spark.read.parquet('date_built')"
      ]
    },
    {
      "cell_type": "code",
      "execution_count": 19,
      "metadata": {
        "id": "J6MJkHfvVcvh",
        "colab": {
          "base_uri": "https://localhost:8080/"
        },
        "outputId": "2e029adc-6a1a-486f-cc3b-7f5239a83f9c"
      },
      "outputs": [
        {
          "output_type": "stream",
          "name": "stdout",
          "text": [
            "+--------------------+-------------------+------+--------+---------+-----------+--------+------+----------+----+----------+\n",
            "|                  id|               date| price|bedrooms|bathrooms|sqft_living|sqft_lot|floors|waterfront|view|date_built|\n",
            "+--------------------+-------------------+------+--------+---------+-----------+--------+------+----------+----+----------+\n",
            "|2ed8d509-7372-46d...|2021-08-06 00:00:00|258710|       3|        3|       1918|    9666|     1|         0|  25|      2015|\n",
            "|941bad30-eb49-4a7...|2020-05-09 00:00:00|229896|       3|        3|       2197|    8641|     1|         0|   3|      2015|\n",
            "|c797ca12-52cd-4b1...|2019-06-08 00:00:00|288650|       2|        3|       2100|   10419|     2|         0|   7|      2015|\n",
            "|0cfe57f3-28c2-472...|2019-10-04 00:00:00|308313|       3|        3|       1960|    9453|     2|         0|   2|      2015|\n",
            "|d715f295-2fbf-4e9...|2021-05-17 00:00:00|391574|       3|        2|       1635|    8040|     2|         0|  10|      2015|\n",
            "|a18515a2-86f3-46b...|2022-02-18 00:00:00|419543|       3|        2|       1642|   12826|     2|         0|  24|      2015|\n",
            "|98f6a9ad-8870-474...|2022-05-07 00:00:00|136752|       2|        3|       1701|   10771|     2|         0|   5|      2015|\n",
            "|7ac67498-b6f3-403...|2021-05-12 00:00:00|349318|       4|        3|       2417|   11304|     2|         0|  37|      2015|\n",
            "|c9bfdb1c-2499-4e3...|2021-12-07 00:00:00|268874|       2|        2|       1537|   12177|     1|         0|  10|      2015|\n",
            "|34c31a34-220d-469...|2019-02-06 00:00:00|409011|       3|        3|       2356|   10507|     1|         0|   1|      2015|\n",
            "|be0ccb95-415d-411...|2020-05-15 00:00:00|425154|       4|        3|       2120|   14229|     2|         0|   4|      2015|\n",
            "|e9031a86-1294-444...|2021-10-09 00:00:00|222322|       4|        3|       1928|   10510|     1|         0|  38|      2015|\n",
            "|e6d7c2a7-596e-4ec...|2019-03-15 00:00:00|131201|       4|        3|       1633|   14655|     1|         0|  22|      2015|\n",
            "|6683714b-3df7-454...|2022-02-01 00:00:00|333403|       4|        2|       2059|    9793|     2|         0|   4|      2015|\n",
            "|00fc996f-508c-430...|2021-07-15 00:00:00|373139|       3|        3|       1763|   11363|     1|         0|  39|      2015|\n",
            "|3d5545f8-bd3b-476...|2020-09-19 00:00:00|797862|       4|        6|       3494|   10385|     2|         0|  90|      2015|\n",
            "|ec6d357c-2435-43e...|2019-05-28 00:00:00|401792|       3|        2|       1627|   10765|     1|         0|  50|      2015|\n",
            "|c2be38fb-814a-403...|2020-03-20 00:00:00|352237|       3|        3|       2485|   10954|     2|         0|   6|      2015|\n",
            "|9570de1f-5a74-45b...|2021-11-29 00:00:00|298453|       3|        2|       2222|   10634|     1|         0|   6|      2015|\n",
            "|1baeff4f-fc00-489...|2020-12-17 00:00:00|152775|       3|        2|       1623|   13851|     1|         0|  41|      2015|\n",
            "+--------------------+-------------------+------+--------+---------+-----------+--------+------+----------+----+----------+\n",
            "only showing top 20 rows\n",
            "\n"
          ]
        }
      ],
      "source": [
        "# 12. Create a temporary table for the parquet data.\n",
        "df.createOrReplaceTempView('temp_table')\n",
        "\n",
        "result = spark.sql(\"SELECT * FROM temp_table\")\n",
        "\n",
        "# Display the result\n",
        "result.show()"
      ]
    },
    {
      "cell_type": "markdown",
      "source": [
        "UPDATED QUERY FOR #13"
      ],
      "metadata": {
        "id": "bCnuAfMm5IwC"
      }
    },
    {
      "cell_type": "code",
      "source": [
        "# 13. Run the query that filters out the view ratings with average price of greater than or equal to $350,000 \n",
        "# with the parquet DataFrame. Round your average to two decimal places. \n",
        "# Determine the runtime and compare it to the cached version.\n",
        "\n",
        "start_time = time.time()\n",
        "\n",
        "query=\"\"\"\n",
        "\n",
        "select view, round(avg(price), 2) as average_price\n",
        "\n",
        "from temp_table\n",
        "where price >= 350000 \n",
        "\n",
        "group by view\n",
        "\n",
        "order by view\n",
        "\n",
        "\"\"\"\n",
        "\n",
        "spark.sql(query).show()\n",
        "\n",
        "\n",
        "print(\"--- %s seconds ---\" % (time.time() - start_time))"
      ],
      "metadata": {
        "colab": {
          "base_uri": "https://localhost:8080/"
        },
        "id": "Mkfj6_fN49KU",
        "outputId": "39f8594d-11ac-41ea-b214-077bb65df593"
      },
      "execution_count": 20,
      "outputs": [
        {
          "output_type": "stream",
          "name": "stdout",
          "text": [
            "+----+-------------+\n",
            "|view|average_price|\n",
            "+----+-------------+\n",
            "|   0|    403848.51|\n",
            "|   1|    401044.25|\n",
            "|   2|    397389.25|\n",
            "|   3|     398867.6|\n",
            "|   4|    399631.89|\n",
            "|   5|    401471.82|\n",
            "|   6|    395655.38|\n",
            "|   7|    403005.77|\n",
            "|   8|    398592.71|\n",
            "|   9|    401393.34|\n",
            "|  10|    401868.43|\n",
            "|  11|    399548.12|\n",
            "|  12|    401501.32|\n",
            "|  13|    398917.98|\n",
            "|  14|    398570.03|\n",
            "|  15|     404673.3|\n",
            "|  16|    399586.53|\n",
            "|  17|    398474.49|\n",
            "|  18|    399332.91|\n",
            "|  19|    398953.17|\n",
            "+----+-------------+\n",
            "only showing top 20 rows\n",
            "\n",
            "--- 0.5715837478637695 seconds ---\n"
          ]
        }
      ]
    },
    {
      "cell_type": "markdown",
      "source": [
        "PREVIOUS INCORRECT QUERY FOR #13"
      ],
      "metadata": {
        "id": "rS8ozUSO5ADp"
      }
    },
    {
      "cell_type": "code",
      "execution_count": 21,
      "metadata": {
        "id": "G_Vhb52rU1Sn"
      },
      "outputs": [],
      "source": [
        "# # 13. Run the query that filters out the view ratings with average price of greater than or eqaul to $350,000 \n",
        "# # with the parquet DataFrame. Round your average to two decimal places. \n",
        "# # Determine the runtime and compare it to the cached version. \n",
        "\n",
        "\n",
        "# query = \"\"\"\n",
        "#   SELECT ROUND(AVG(view), 2) as view_rating\n",
        "#   FROM temp_table\n",
        "#   WHERE price >= 350000\n",
        "# \"\"\"\n",
        "\n",
        "# # Timing the query without caching\n",
        "# start_time = time.time()\n",
        "# result = spark.sql(query)\n",
        "# result.show()  # Force execution of the query now\n",
        "# end_time = time.time()\n",
        "\n",
        "\n",
        "# print(f\"Runtime without cache: {end_time - start_time} seconds\")\n",
        "\n",
        "# # Cache the DataFrame\n",
        "# df.cache()\n",
        "\n",
        "# # Timing the query with caching\n",
        "# start_time = time.time()\n",
        "# result = spark.sql(query)\n",
        "# result.show()  # Force execution of the query now\n",
        "# end_time = time.time()\n",
        "\n",
        "# print(f\"Runtime with cache: {end_time - start_time} seconds\")"
      ]
    },
    {
      "cell_type": "code",
      "execution_count": 22,
      "metadata": {
        "colab": {
          "base_uri": "https://localhost:8080/"
        },
        "id": "hjjYzQGjtbq8",
        "outputId": "acf3d384-a2dd-4839-f95b-3b959c3a70bb"
      },
      "outputs": [
        {
          "output_type": "execute_result",
          "data": {
            "text/plain": [
              "DataFrame[]"
            ]
          },
          "metadata": {},
          "execution_count": 22
        }
      ],
      "source": [
        "# 14. Uncache the house_data temporary table and the df\n",
        "df.unpersist()\n",
        "spark.sql(\"uncache table house_data\")"
      ]
    },
    {
      "cell_type": "code",
      "source": [
        "# 15. Check if the temporary view is cached\n",
        "is_cached = spark.catalog.isCached(\"temp_table\")\n",
        "\n",
        "print(f\"Is 'temp_table' cached? {is_cached}\")\n"
      ],
      "metadata": {
        "colab": {
          "base_uri": "https://localhost:8080/"
        },
        "id": "nJCpb-PnQ2SR",
        "outputId": "83c95d9a-bfcd-4ffe-f842-179d28eb4492"
      },
      "execution_count": 23,
      "outputs": [
        {
          "output_type": "stream",
          "name": "stdout",
          "text": [
            "Is 'temp_table' cached? False\n"
          ]
        }
      ]
    },
    {
      "cell_type": "code",
      "execution_count": 24,
      "metadata": {
        "colab": {
          "base_uri": "https://localhost:8080/"
        },
        "id": "Sy9NBvO7tlmm",
        "outputId": "1c78bbb1-cf53-493d-edc2-1863f0f5728a"
      },
      "outputs": [
        {
          "output_type": "stream",
          "name": "stdout",
          "text": [
            "Is 'house_data' cached? False\n"
          ]
        }
      ],
      "source": [
        "# 15 (b). Check if the house_data is no longer cached\n",
        "spark.catalog.isCached(\"house_data\")\n",
        "print(f\"Is 'house_data' cached? {is_cached}\")"
      ]
    }
  ],
  "metadata": {
    "colab": {
      "provenance": [],
      "include_colab_link": true
    },
    "kernelspec": {
      "display_name": "Python 3 (ipykernel)",
      "language": "python",
      "name": "python3"
    },
    "language_info": {
      "codemirror_mode": {
        "name": "ipython",
        "version": 3
      },
      "file_extension": ".py",
      "mimetype": "text/x-python",
      "name": "python",
      "nbconvert_exporter": "python",
      "pygments_lexer": "ipython3",
      "version": "3.10.10"
    },
    "nteract": {
      "version": "0.28.0"
    }
  },
  "nbformat": 4,
  "nbformat_minor": 0
}